{
 "cells": [
  {
   "cell_type": "code",
   "execution_count": null,
   "metadata": {},
   "outputs": [],
   "source": [
    "from util.help_function import *\n",
    "from util.build_data import Build_Data\n",
    "\n",
    "import numpy as np\n",
    "import pandas as pd"
   ]
  },
  {
   "cell_type": "markdown",
   "metadata": {},
   "source": [
    "### Build 1M shopee"
   ]
  },
  {
   "cell_type": "code",
   "execution_count": null,
   "metadata": {},
   "outputs": [],
   "source": [
    "print(\"hello word\")"
   ]
  },
  {
   "cell_type": "code",
   "execution_count": null,
   "metadata": {},
   "outputs": [],
   "source": [
    "from tqdm import trange\n",
    "from pyvi import ViTokenizer\n",
    "from underthesea import word_tokenize\n",
    "\n",
    "import pandas as pd\n",
    "import time"
   ]
  },
  {
   "cell_type": "code",
   "execution_count": null,
   "metadata": {},
   "outputs": [],
   "source": [
    "df_train = pd.read_csv('data/all_category/data_run/_1M_shopee/train_set/shopee_train.csv', sep='\\t')\n",
    "df_train"
   ]
  },
  {
   "cell_type": "code",
   "execution_count": null,
   "metadata": {},
   "outputs": [],
   "source": [
    "print(ViTokenizer.tokenize('Chàng trai 9X Quảng Trị khởi nghiệp từ nấm sò'))\n",
    "print(word_tokenize('Chàng trai 9X Quảng Trị khởi nghiệp từ nấm sò',format=\"text\"))"
   ]
  },
  {
   "cell_type": "code",
   "execution_count": null,
   "metadata": {},
   "outputs": [],
   "source": [
    "raw_samples = df_train['sample'].values\n",
    "clean_pyvi = []\n",
    "clean_undersea = []\n",
    "\n",
    "start = time.time()\n",
    "for i in trange(len(raw_samples[:100000])):\n",
    "    clean_pyvi.append(word_tokenize(raw_samples[i], format=\"text\"))\n",
    "print(f\"ViTokenize: {time.time()-start}\")\n",
    "\n",
    "start = time.time()\n",
    "for i in trange(len(raw_samples[:100000])):\n",
    "    clean_undersea.append(ViTokenizer.tokenize(raw_samples[i]))\n",
    "print(f\"Underthesea tokenize: {time.time()-start}\")"
   ]
  },
  {
   "cell_type": "code",
   "execution_count": null,
   "metadata": {},
   "outputs": [],
   "source": [
    "print(clean_pyvi)"
   ]
  }
 ],
 "metadata": {
  "kernelspec": {
   "display_name": "Python 3.9.12 ('work_fun')",
   "language": "python",
   "name": "python3"
  },
  "language_info": {
   "codemirror_mode": {
    "name": "ipython",
    "version": 3
   },
   "file_extension": ".py",
   "mimetype": "text/x-python",
   "name": "python",
   "nbconvert_exporter": "python",
   "pygments_lexer": "ipython3",
   "version": "3.9.12"
  },
  "orig_nbformat": 4,
  "vscode": {
   "interpreter": {
    "hash": "a921b4654642c77e80c066082c58bfe216a192a047c034363c47413491dc481a"
   }
  }
 },
 "nbformat": 4,
 "nbformat_minor": 2
}
